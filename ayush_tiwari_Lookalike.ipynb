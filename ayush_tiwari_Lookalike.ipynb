{
 "cells": [
  {
   "cell_type": "code",
   "execution_count": 2,
   "id": "80c1adcd",
   "metadata": {},
   "outputs": [],
   "source": [
    "import pandas as pd\n",
    "from sklearn.preprocessing import StandardScaler\n",
    "from sklearn.metrics.pairwise import cosine_similarity\n",
    "import numpy as np"
   ]
  },
  {
   "cell_type": "code",
   "execution_count": 3,
   "id": "30b257c9",
   "metadata": {},
   "outputs": [],
   "source": [
    "# Load the datasets\n",
    "customers = pd.read_csv(\"C:\\E\\data_analytics\\Customers.csv\")\n",
    "# transactions was assigned to products and products was assigned to transactions\n",
    "products = pd.read_csv(\"C:\\E\\data_analytics\\Products.csv\")\n",
    "transactions = pd.read_csv(\"C:\\E\\data_analytics\\Transactions.csv\")"
   ]
  },
  {
   "cell_type": "code",
   "execution_count": 4,
   "id": "dd9b614e",
   "metadata": {},
   "outputs": [],
   "source": [
    "# Merge datasets to create customer profiles\n",
    "transactions = transactions.merge(products[['ProductID', 'Category']], on='ProductID', how='left')\n",
    "customer_profiles = transactions.groupby('CustomerID').agg({\n",
    "    'TotalValue': 'sum',\n",
    "    'TransactionID': 'count',\n",
    "    'Category': lambda x: x.value_counts().index[0]  # Most frequent category\n",
    "}).rename(columns={\n",
    "    'TotalValue': 'TotalSpending',\n",
    "    'TransactionID': 'TransactionCount',\n",
    "    'Category': 'PreferredCategory'\n",
    "}).reset_index()"
   ]
  },
  {
   "cell_type": "code",
   "execution_count": 5,
   "id": "43f68c24",
   "metadata": {},
   "outputs": [],
   "source": [
    "# Merge customer data, including SignupYear\n",
    "customer_profiles = customer_profiles.merge(customers, on='CustomerID', how='left')  # Ensure SignupYear is included"
   ]
  },
  {
   "cell_type": "code",
   "execution_count": 6,
   "id": "43a8467c",
   "metadata": {},
   "outputs": [],
   "source": [
    "# Encode categorical features (Region, PreferredCategory)\n",
    "customer_profiles = pd.get_dummies(customer_profiles, columns=['Region', 'PreferredCategory'], drop_first=True)"
   ]
  },
  {
   "cell_type": "code",
   "execution_count": 7,
   "id": "5a40880e",
   "metadata": {},
   "outputs": [],
   "source": [
    "# Normalize numerical features\n",
    "scaler = StandardScaler()\n",
    "numerical_features = ['TotalSpending', 'TransactionCount']\n",
    "customer_profiles[numerical_features] = scaler.fit_transform(customer_profiles[numerical_features])"
   ]
  },
  {
   "cell_type": "code",
   "execution_count": 8,
   "id": "a74c6512",
   "metadata": {},
   "outputs": [],
   "source": [
    "# Compute similarity matrix using cosine similarity\n",
    "# Removing 'SignupYear' from the drop columns as it is present in the DataFrame\n",
    "similarity_matrix = cosine_similarity(customer_profiles.drop(columns=['CustomerID', 'CustomerName', 'SignupDate']))  \n",
    "similarity_df = pd.DataFrame(similarity_matrix, index=customer_profiles['CustomerID'], columns=customer_profiles['CustomerID'])"
   ]
  },
  {
   "cell_type": "code",
   "execution_count": 9,
   "id": "3559e1e6",
   "metadata": {},
   "outputs": [],
   "source": [
    "# Find top 3 similar customers for the first 20 customers\n",
    "lookalike_results = {}\n",
    "for cust_id in customer_profiles['CustomerID'][:20]:\n",
    "    similar_customers = similarity_df[cust_id].sort_values(ascending=False).iloc[1:4]  # Exclude self (highest similarity)\n",
    "    lookalike_results[cust_id] = list(similar_customers.items())"
   ]
  },
  {
   "cell_type": "code",
   "execution_count": 11,
   "id": "6cf4243f",
   "metadata": {},
   "outputs": [],
   "source": [
    "# Convert results to DataFrame for output\n",
    "lookalike_output = []\n",
    "for cust_id, similars in lookalike_results.items():\n",
    "    for similar_cust_id, score in similars:\n",
    "        lookalike_output.append({'CustomerID': cust_id, 'SimilarCustomerID': similar_cust_id, 'Score': score})\n",
    "lookalike_df = pd.DataFrame(lookalike_output)"
   ]
  },
  {
   "cell_type": "code",
   "execution_count": 12,
   "id": "68d5521f",
   "metadata": {},
   "outputs": [
    {
     "name": "stdout",
     "output_type": "stream",
     "text": [
      "Lookalike model completed! Results saved to Lookalike.csv.\n"
     ]
    }
   ],
   "source": [
    "# Save results to Lookalike.csv\n",
    "lookalike_df.to_csv(\"Lookalike.csv\", index=False)\n",
    "\n",
    "print(\"Lookalike model completed! Results saved to Lookalike.csv.\")"
   ]
  }
 ],
 "metadata": {
  "kernelspec": {
   "display_name": "Python 3 (ipykernel)",
   "language": "python",
   "name": "python3"
  },
  "language_info": {
   "codemirror_mode": {
    "name": "ipython",
    "version": 3
   },
   "file_extension": ".py",
   "mimetype": "text/x-python",
   "name": "python",
   "nbconvert_exporter": "python",
   "pygments_lexer": "ipython3",
   "version": "3.11.7"
  }
 },
 "nbformat": 4,
 "nbformat_minor": 5
}
